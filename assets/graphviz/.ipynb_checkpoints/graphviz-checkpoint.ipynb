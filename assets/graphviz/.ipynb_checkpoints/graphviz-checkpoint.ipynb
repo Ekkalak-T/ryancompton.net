{
 "metadata": {
  "name": ""
 },
 "nbformat": 3,
 "nbformat_minor": 0,
 "worksheets": [
  {
   "cells": [
    {
     "cell_type": "code",
     "collapsed": false,
     "input": [
      "import graph_tool.all as gt\n",
      "import math"
     ],
     "language": "python",
     "metadata": {},
     "outputs": [],
     "prompt_number": 17
    },
    {
     "cell_type": "code",
     "collapsed": false,
     "input": [
      "g = gt.collection.data[\"polblogs\"] #  http://www2.scedu.unibo.it/roversi/SocioNet/AdamicGlanceBlogWWW.pdf"
     ],
     "language": "python",
     "metadata": {},
     "outputs": [],
     "prompt_number": 18
    },
    {
     "cell_type": "code",
     "collapsed": false,
     "input": [
      "#use 1->Republican, 2->Democrat\n",
      "red_blue_map = {1:(1,0,0,1),0:(0,0,1,1)}\n",
      "plot_color = g.new_vertex_property('vector<double>')\n",
      "g.vertex_properties['plot_color'] = plot_color\n",
      "for v in g.vertices():\n",
      "    plot_color[v] = red_blue_map[g.vertex_properties['value'][v]]"
     ],
     "language": "python",
     "metadata": {},
     "outputs": [],
     "prompt_number": 19
    },
    {
     "cell_type": "code",
     "collapsed": false,
     "input": [
      "#edge colors\n",
      "alpha=0.15\n",
      "edge_color = g.new_edge_property('vector<double>')\n",
      "g.edge_properties['edge_color']=edge_color\n",
      "for e in g.edges():\n",
      "    if plot_color[e.source()] != plot_color[e.target()]:\n",
      "        if plot_color[e.source()] == (0,0,1,1):\n",
      "            #orange on dem -> rep\n",
      "            edge_color[e] = (255.0/255.0, 102/255.0, 0/255.0, alpha)\n",
      "        else:\n",
      "            edge_color[e] = (102.0/255.0, 51/255.0, 153/255.0, alpha)            \n",
      "    #red on rep-rep edges\n",
      "    elif plot_color[e.source()] == (1,0,0,1):\n",
      "        edge_color[e] = (1,0,0, alpha)\n",
      "    #blue on dem-dem edges\n",
      "    else:\n",
      "        edge_color[e] = (0,0,1, alpha)\n",
      "\n"
     ],
     "language": "python",
     "metadata": {},
     "outputs": [],
     "prompt_number": 20
    },
    {
     "cell_type": "code",
     "collapsed": false,
     "input": [
      "#build tree\n",
      "t = gt.Graph()\n",
      "\n",
      "#add verticies with same idx as G\n",
      "for v in g.vertices():\n",
      "    tv = t.add_vertex()\n",
      "\n",
      "#add hierachy points\n",
      "reps = t.add_vertex()\n",
      "dems = t.add_vertex()\n",
      "root = t.add_vertex()\n",
      "t.add_edge(root,reps)\n",
      "t.add_edge(root,dems)\n",
      "\n",
      "for tv in t.vertices():\n",
      "    if t.vertex_index[tv] < g.num_vertices():\n",
      "        if g.vertex_properties['value'][tv] == 1:\n",
      "            t.add_edge(reps,tv)\n",
      "        else:\n",
      "            t.add_edge(dems,tv)\n",
      "\n",
      "tpos = pos = gt.radial_tree_layout(t, t.vertex(t.num_vertices() - 1), weighted=True)\n",
      "cts = gt.get_hierarchy_control_points(g, t, tpos)\n",
      "pos = g.own_property(tpos)\n",
      "\n",
      "#gt.graph_draw(t,pos=pos)\n",
      "\n",
      "\n"
     ],
     "language": "python",
     "metadata": {},
     "outputs": [
      {
       "metadata": {},
       "output_type": "pyout",
       "prompt_number": 21,
       "text": [
        "(<PropertyMap object with key type 'Vertex' and value type 'vector<double>', for Graph 0x7f98411bdeb8, at 0x7f98402c2710>,\n",
        " <PropertyMap object with key type 'Vertex' and value type 'bool', for Graph 0x7f98402c5240, at 0x7f98402b55f8>)"
       ]
      }
     ],
     "prompt_number": 21
    },
    {
     "cell_type": "code",
     "collapsed": false,
     "input": [
      "#labels\n",
      "text_rot = g.new_vertex_property('double')\n",
      "g.vertex_properties['text_rot'] = text_rot\n",
      "for v in g.vertices():\n",
      "    if pos[v][0] >0:\n",
      "        text_rot[v] = math.atan(pos[v][1]/pos[v][0])\n",
      "    else:\n",
      "        text_rot[v] = math.pi + math.atan(pos[v][1]/pos[v][0])\n"
     ],
     "language": "python",
     "metadata": {},
     "outputs": [],
     "prompt_number": 95
    },
    {
     "cell_type": "code",
     "collapsed": false,
     "input": [
      "gt.graph_draw(g, pos=pos,\n",
      "              vertex_size=10,\n",
      "              vertex_color=g.vertex_properties['plot_color'],\n",
      "              vertex_fill_color=g.vertex_properties['plot_color'],\n",
      "              edge_control_points=cts,\n",
      "              vertex_text=g.vertex_properties['label'],\n",
      "            vertex_text_rotation=g.vertex_properties['text_rot'],\n",
      "            vertex_text_position=1,\n",
      "            vertex_font_size=9,\n",
      "            edge_color=g.edge_properties['edge_color'],\n",
      "            vertex_anchor=0,\n",
      "            bg_color=[0,0,0,1],\n",
      "            output_size=[4024,4024],\n",
      "            output='polblogs.png'\n",
      "            )"
     ],
     "language": "python",
     "metadata": {},
     "outputs": [
      {
       "metadata": {},
       "output_type": "pyout",
       "prompt_number": 103,
       "text": [
        "<PropertyMap object with key type 'Vertex' and value type 'vector<double>', for Graph 0x7faf52d77ef0, at 0x7faf8c17c7f0>"
       ]
      }
     ],
     "prompt_number": 103
    },
    {
     "cell_type": "code",
     "collapsed": false,
     "input": [
      "gt.graph_draw(g,\n",
      "                   vertex_color=g.vertex_properties['plot_color'],\n",
      "                   vertex_fill_color=g.vertex_properties['plot_color'],\n",
      "                   output_size=[1024,1024],\n",
      "                   output='/home/aahu/Dropbox/ryancompton.net/assets/graphviz/polblogs.png'\n",
      "                   )\n",
      "#vertex_text=g.vertex_properties['label'],"
     ],
     "language": "python",
     "metadata": {},
     "outputs": [
      {
       "metadata": {},
       "output_type": "pyout",
       "prompt_number": 6,
       "text": [
        "<PropertyMap object with key type 'Vertex' and value type 'vector<double>', for Graph 0x7faf52d77ef0, at 0x7faf52d92630>"
       ]
      }
     ],
     "prompt_number": 6
    },
    {
     "cell_type": "code",
     "collapsed": false,
     "input": [],
     "language": "python",
     "metadata": {},
     "outputs": []
    }
   ],
   "metadata": {}
  }
 ]
}