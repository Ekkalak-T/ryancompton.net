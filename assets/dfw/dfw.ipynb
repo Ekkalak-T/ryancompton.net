{
 "metadata": {
  "name": ""
 },
 "nbformat": 3,
 "nbformat_minor": 0,
 "worksheets": [
  {
   "cells": [
    {
     "cell_type": "code",
     "collapsed": false,
     "input": [
      "import nltk\n",
      "from nltk.stem import *\n",
      "import string\n",
      "import re"
     ],
     "language": "python",
     "metadata": {},
     "outputs": [],
     "prompt_number": 43
    },
    {
     "cell_type": "code",
     "collapsed": false,
     "input": [
      "#first, run pdftotext on this:\n",
      "#http://nkelber.com/engl295/wp-content/uploads/2012/07/David-Foster-Wallace-Infinite-Jest-v2.0.pdf\n",
      "raw = open(\"David-Foster-Wallace-Infinite-Jest-v2.0.txt\",'rU').read()"
     ],
     "language": "python",
     "metadata": {},
     "outputs": [],
     "prompt_number": 36
    },
    {
     "cell_type": "code",
     "collapsed": false,
     "input": [
      "def vocabulary_size(raw):\n",
      "    \"\"\"\n",
      "    Compute the number of distinct words (stemmed)\n",
      "    ignores punctuation/capitalization\n",
      "    \"\"\"\n",
      "    #remove punctuation and set everything to lower case\n",
      "    #exclude = set(string.punctuation).union(set(string.digits))\n",
      "    #rec = re.compile('[A-z]')\n",
      "    no_punct = ''.join(ch for ch in raw if ch in string.ascii_letters )\n",
      "    no_punct_lower = no_punct.lower()\n",
      "\n",
      "    #tokenize, stem, and count\n",
      "    tokens=nltk.word_tokenize(no_punct_lower)  \n",
      "    stemmer = PorterStemmer()\n",
      "    stemmed_tokens = []\n",
      "    for token in tokens:\n",
      "        stemmed_tokens.append(stemmer.stem(token))\n",
      "  \n",
      "    return len(set(stemmed_tokens))\n",
      "\n",
      "print(\"words in vocabulary:\\t\",vocabulary_size(raw))"
     ],
     "language": "python",
     "metadata": {},
     "outputs": [],
     "prompt_number": "*"
    },
    {
     "cell_type": "code",
     "collapsed": false,
     "input": [
      "#http://www.englishclub.com/vocabulary/common-conjunctions-25.htm\n",
      "conjunctions = set(open('conjunctions.txt','rU').read().splitlines())\n",
      "print(\"num conjunctions in Wiktionary:\",len(conjunctions))\n",
      "\n",
      "\n",
      "def longest_uninterrupted_seqs(raw, terms, min_seq_length=3):\n",
      "    \"\"\"\n",
      "    Given a string of text and a set of terms to search for\n",
      "    return a count of how often uninterrupted seqs appear\n",
      "    \"\"\"\n",
      "    tokens = nltk.word_tokenize(raw)\n",
      "    longest_seq = []\n",
      "    for idx,token in enumerate(tokens):\n",
      "        tokl = token.lower()\n",
      "        if tokl in conjunctions:\n",
      "            seq = []\n",
      "            n_ahead = 0\n",
      "            while tokl in conjunctions:\n",
      "                tokl = tokens[idx+n_ahead].lower()\n",
      "                seq.append((idx+n_ahead, tokl))\n",
      "                n_ahead += 1\n",
      "            if len(seq) > len(longest_seq):\n",
      "                longest_seq = seq\n",
      "    return longest_seq\n",
      "\n",
      "longest_seq = longest_uninterrupted_seqs(raw, conjunctions)\n",
      "print(\"longest sequence of common conjunctions\", longest_seq)\n",
      "\n",
      "conj_start = min(list(map(lambda x: x[0], longest_seq)))\n",
      "print(\"in book: \", tokens[(conj_start-20):(conj_start+40)])\n",
      "#print tokens[400:405]"
     ],
     "language": "python",
     "metadata": {},
     "outputs": [
      {
       "output_type": "stream",
       "stream": "stdout",
       "text": [
        "num conjunctions in Wiktionary: 192\n",
        "longest sequence of common conjunctions"
       ]
      },
      {
       "output_type": "stream",
       "stream": "stdout",
       "text": [
        " [(538885, 'but'), (538886, 'and'), (538887, 'so'), (538888, 'and'), (538889, 'but'), (538890, 'so'), (538891, \"i'm\")]\n",
        "in book:  ['a', 'sister', 'up', 'so', 'bad', 'I', 'ca', \"n't\", 'hardly', 'see', 'to', 'get', 'the', 'truck', 'off', 'the', 'lawn', 'and', 'leave', '.', 'But', 'and', 'so', 'and', 'but', 'so', \"I'm\", 'driving', 'back', 'home', ',', 'and', 'I', \"'m\", 'so', 'mad', 'I', 'all', 'of', 'a', 'sudden', 'try', 'and', 'pray', '.', 'And', 'I', 'try', 'and', 'pray', ',', 'driving', 'along', 'and', 'whatnot', ',', 'and', 'it', 'comes', 'to']\n"
       ]
      }
     ],
     "prompt_number": 34
    },
    {
     "cell_type": "code",
     "collapsed": false,
     "input": [
      "nltk.collocations.demo()"
     ],
     "language": "python",
     "metadata": {},
     "outputs": [
      {
       "output_type": "stream",
       "stream": "stdout",
       "text": [
        "firefox.txt\n",
        "\t"
       ]
      },
      {
       "output_type": "stream",
       "stream": "stdout",
       "text": [
        " ['download manager', 'http ://', 'new tab', 'context menu', 'address bar', 'print preview', 'location bar', 'mozilla firebird', 'bookmarks toolbar', 'password manager', 'new window', 'status bar', 'full screen', 'dom inspector', 'personal toolbar']\n",
        "\t Correlation to raw_freq: 0.6021"
       ]
      },
      {
       "output_type": "stream",
       "stream": "stdout",
       "text": [
        "\n",
        "grail.txt"
       ]
      },
      {
       "output_type": "stream",
       "stream": "stdout",
       "text": [
        "\n",
        "\t ['black knight', 'clop clop', 'head knight', 'mumble mumble', 'squeak squeak', 'saw saw', 'holy grail', 'run away', 'french guard', 'cartoon character', 'iesu domine', 'pie iesu', 'round table', 'sir robin', 'clap clap']\n",
        "\t Correlation to raw_freq: 0.7946\n",
        "overheard.txt"
       ]
      },
      {
       "output_type": "stream",
       "stream": "stdout",
       "text": [
        "\n",
        "\t"
       ]
      },
      {
       "output_type": "stream",
       "stream": "stdout",
       "text": [
        " ['teen girl', 'new york', 'teen boy', 'little boy', 'little girl', 'last night', 'old lady', 'old man', 'bus driver', 'long island', 'high school', 'drunk guy', 'look like', 'hipster girl', 'flight attendant']\n",
        "\t Correlation to raw_freq: 0.5210"
       ]
      },
      {
       "output_type": "stream",
       "stream": "stdout",
       "text": [
        "\n",
        "pirates.txt"
       ]
      },
      {
       "output_type": "stream",
       "stream": "stdout",
       "text": [
        "\n",
        "\t ['jack sparrow', 'elizabeth swann', 'davy jones', 'flying dutchman', 'lord cutler', 'cutler beckett', 'black pearl', 'tia dalma', 'cannibal island', 'port royal', 'bamboo pole', 'edinburgh trader', 'east india', 'india trading', 'wounded sailor']\n",
        "\t Correlation to raw_freq: 0.6932\n",
        "singles.txt\n",
        "\t ['would like', 'age open', 'medium build', 'social drinker', 'non smoker', 'quiet nights', 'long term', 'easy going', 'poss rship', 'financially secure', 'fun times', 'weekends away', 'seeks lady', 'single dad', 'similar interests']\n",
        "\t Correlation to raw_freq: 0.6389\n",
        "wine.txt"
       ]
      },
      {
       "output_type": "stream",
       "stream": "stdout",
       "text": [
        "\n",
        "\t ['top ***', 'bare ****', 'bare ***', 'good length', 'bare ***(*)', 'medium weight', 'needs time', 'pretty good', 'mature claret', 'nice balance', 'red fruits', 'rather good', 'white burgundy', 'quite forward', 'top ****']\n",
        "\t Correlation to raw_freq: 0.5347"
       ]
      },
      {
       "output_type": "stream",
       "stream": "stdout",
       "text": [
        "\n"
       ]
      }
     ],
     "prompt_number": 43
    },
    {
     "cell_type": "code",
     "collapsed": false,
     "input": [],
     "language": "python",
     "metadata": {},
     "outputs": [
      {
       "output_type": "stream",
       "stream": "stdout",
       "text": [
        "NLTK Downloader\n",
        "---------------------------------------------------------------------------\n",
        "    d) Download   l) List    u) Update   c) Config   h) Help   q) Quit\n",
        "---------------------------------------------------------------------------\n"
       ]
      },
      {
       "output_type": "stream",
       "stream": "stdout",
       "text": [
        "\n",
        "---------------------------------------------------------------------------\n",
        "    d) Download   l) List    u) Update   c) Config   h) Help   q) Quit\n",
        "---------------------------------------------------------------------------\n"
       ]
      },
      {
       "output_type": "stream",
       "stream": "stdout",
       "text": [
        "\n",
        "Download which package (l=list; x=cancel)?\n"
       ]
      },
      {
       "output_type": "stream",
       "stream": "stdout",
       "text": [
        "    Downloading package stopwords to /home/ryan/nltk_data...\n",
        "      Unzipping corpora/stopwords.zip."
       ]
      },
      {
       "output_type": "stream",
       "stream": "stdout",
       "text": [
        "\n",
        "\n",
        "---------------------------------------------------------------------------\n",
        "    d) Download   l) List    u) Update   c) Config   h) Help   q) Quit\n",
        "---------------------------------------------------------------------------\n"
       ]
      },
      {
       "output_type": "stream",
       "stream": "stdout",
       "text": [
        "\n",
        "Packages:\n",
        "  [ ] abc................. Australian Broadcasting Commission 2006\n",
        "  [ ] alpino.............. Alpino Dutch Treebank\n",
        "  [ ] basque_grammars..... Grammars for Basque\n",
        "  [ ] biocreative_ppi..... BioCreAtIvE (Critical Assessment of Information\n",
        "                           Extraction Systems in Biology)\n",
        "  [ ] book_grammars....... Grammars from NLTK Book\n",
        "  [ ] brown............... Brown Corpus\n",
        "  [ ] brown_tei........... Brown Corpus (TEI XML Version)\n",
        "  [ ] cess_cat............ CESS-CAT Treebank\n",
        "  [ ] cess_esp............ CESS-ESP Treebank\n",
        "  [ ] chat80.............. Chat-80 Data Files\n",
        "  [ ] city_database....... City Database\n",
        "  [ ] cmudict............. The Carnegie Mellon Pronouncing Dictionary (0.6)\n",
        "  [ ] comtrans............ ComTrans Corpus Sample\n",
        "  [ ] conll2000........... CONLL 2000 Chunking Corpus\n",
        "  [ ] conll2002........... CONLL 2002 Named Entity Recognition Corpus\n",
        "  [ ] conll2007........... Dependency Treebanks from CoNLL 2007 (Catalan\n",
        "                           and Basque Subset)\n",
        "  [ ] dependency_treebank. Dependency Parsed Treebank\n",
        "  [ ] europarl_raw........ Sample European Parliament Proceedings Parallel\n",
        "                           Corpus\n"
       ]
      },
      {
       "output_type": "stream",
       "stream": "stdout",
       "text": [
        "  [ ] floresta............ Portuguese Treebank\n",
        "  [ ] framenet_v15........ FrameNet 1.5\n",
        "  [ ] gazetteers.......... Gazeteer Lists\n",
        "  [ ] genesis............. Genesis Corpus\n",
        "  [ ] gutenberg........... Project Gutenberg Selections\n",
        "  [ ] hmm_treebank_pos_tagger Treebank Part of Speech Tagger (HMM)\n",
        "  [ ] ieer................ NIST IE-ER DATA SAMPLE\n",
        "  [ ] inaugural........... C-Span Inaugural Address Corpus\n",
        "  [ ] indian.............. Indian Language POS-Tagged Corpus\n",
        "  [ ] jeita............... JEITA Public Morphologically Tagged Corpus (in\n",
        "                           ChaSen format)\n",
        "  [ ] kimmo............... PC-KIMMO Data Files\n",
        "  [ ] knbc................ KNB Corpus (Annotated blog corpus)\n",
        "  [ ] langid.............. Language Id Corpus\n",
        "  [ ] large_grammars...... Large context-free and feature-based grammars\n",
        "                           for parser comparison\n",
        "  [ ] lin_thesaurus....... Lin's Dependency Thesaurus\n",
        "  [ ] mac_morpho.......... MAC-MORPHO: Brazilian Portuguese news text with\n",
        "                           part-of-speech tags\n",
        "  [ ] machado............. Machado de Assis -- Obra Completa\n",
        "  [ ] masc_tagged......... MASC Tagged Corpus\n"
       ]
      },
      {
       "output_type": "stream",
       "stream": "stdout",
       "text": [
        "  [ ] maxent_ne_chunker... ACE Named Entity Chunker (Maximum entropy)\n",
        "  [ ] maxent_treebank_pos_tagger Treebank Part of Speech Tagger (Maximum entropy)\n",
        "  [ ] movie_reviews....... Sentiment Polarity Dataset Version 2.0\n",
        "  [ ] names............... Names Corpus, Version 1.3 (1994-03-29)\n",
        "  [ ] nombank.1.0......... NomBank Corpus 1.0\n",
        "  [ ] nps_chat............ NPS Chat\n",
        "  [ ] oanc_masc........... Open American National Corpus: Manually\n",
        "                           Annotated Sub-Corpus\n",
        "  [ ] omw................. Open Multilingual Wordnet\n",
        "  [ ] paradigms........... Paradigm Corpus\n",
        "  [ ] pe08................ Cross-Framework and Cross-Domain Parser\n",
        "                           Evaluation Shared Task\n",
        "  [ ] pil................. The Patient Information Leaflet (PIL) Corpus\n",
        "  [ ] pl196x.............. Polish language of the XX century sixties\n",
        "  [ ] ppattach............ Prepositional Phrase Attachment Corpus\n",
        "  [ ] problem_reports..... Problem Report Corpus\n",
        "  [ ] propbank............ Proposition Bank Corpus 1.0\n",
        "  [ ] ptb................. Penn Treebank\n",
        "  [*] punkt............... Punkt Tokenizer Models\n",
        "  [ ] qc.................. Experimental Data for Question Classification\n",
        "  [ ] reuters............. The Reuters-21578 benchmark corpus, ApteMod\n",
        "                           version\n"
       ]
      },
      {
       "output_type": "stream",
       "stream": "stdout",
       "text": [
        "  [ ] rslp................ RSLP Stemmer (Removedor de Sufixos da Lingua\n",
        "                           Portuguesa)\n",
        "  [ ] rte................. PASCAL RTE Challenges 1, 2, and 3\n",
        "  [ ] sample_grammars..... Sample Grammars\n",
        "  [ ] semcor.............. SemCor 3.0\n",
        "  [ ] senseval............ SENSEVAL 2 Corpus: Sense Tagged Text\n",
        "  [ ] shakespeare......... Shakespeare XML Corpus Sample\n",
        "  [ ] sinica_treebank..... Sinica Treebank Corpus Sample\n",
        "  [ ] smultron............ SMULTRON Corpus Sample\n",
        "  [ ] spanish_grammars.... Grammars for Spanish\n",
        "  [ ] state_union......... C-Span State of the Union Address Corpus\n",
        "  [*] stopwords........... Stopwords Corpus\n",
        "  [ ] swadesh............. Swadesh Wordlists\n",
        "  [ ] switchboard......... Switchboard Corpus Sample\n",
        "  [ ] tagsets............. Help on Tagsets\n",
        "  [ ] timit............... TIMIT Corpus Sample\n",
        "  [ ] toolbox............. Toolbox Sample Files\n",
        "  [ ] treebank............ Penn Treebank Sample\n",
        "  [ ] udhr2............... Universal Declaration of Human Rights Corpus\n",
        "                           (Unicode Version)\n",
        "  [ ] udhr................ Universal Declaration of Human Rights Corpus\n"
       ]
      },
      {
       "output_type": "stream",
       "stream": "stdout",
       "text": [
        "  [ ] unicode_samples..... Unicode Samples\n",
        "  [ ] universal_tagset.... Mappings to the Universal Part-of-Speech Tagset\n",
        "  [ ] verbnet............. VerbNet Lexicon, Version 2.1\n",
        "  [ ] webtext............. Web Text Corpus\n",
        "  [ ] wordnet............. WordNet\n",
        "  [ ] wordnet_ic.......... WordNet-InfoContent\n",
        "  [ ] words............... Word Lists\n",
        "  [ ] ycoe................ York-Toronto-Helsinki Parsed Corpus of Old\n",
        "                           English Prose\n",
        "\n",
        "Collections:\n",
        "  [P] all-corpora......... All the corpora\n",
        "  [P] all................. All packages\n",
        "  [P] book................ Everything used in the NLTK Book\n",
        "\n",
        "([*] marks installed packages; [P] marks partially installed collections)\n",
        "\n",
        "---------------------------------------------------------------------------\n",
        "    d) Download   l) List    u) Update   c) Config   h) Help   q) Quit\n",
        "---------------------------------------------------------------------------\n"
       ]
      },
      {
       "output_type": "stream",
       "stream": "stdout",
       "text": [
        "\n",
        "---------------------------------------------------------------------------\n",
        "    d) Download   l) List    u) Update   c) Config   h) Help   q) Quit\n",
        "---------------------------------------------------------------------------\n"
       ]
      },
      {
       "output_type": "stream",
       "stream": "stdout",
       "text": [
        "\n",
        "---------------------------------------------------------------------------\n",
        "    d) Download   l) List    u) Update   c) Config   h) Help   q) Quit\n",
        "---------------------------------------------------------------------------\n"
       ]
      },
      {
       "metadata": {},
       "output_type": "pyout",
       "prompt_number": 41,
       "text": [
        "True"
       ]
      }
     ],
     "prompt_number": 41
    },
    {
     "cell_type": "code",
     "collapsed": false,
     "input": [],
     "language": "python",
     "metadata": {},
     "outputs": []
    }
   ],
   "metadata": {}
  }
 ]
}