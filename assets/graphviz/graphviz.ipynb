{
 "metadata": {
  "name": ""
 },
 "nbformat": 3,
 "nbformat_minor": 0,
 "worksheets": [
  {
   "cells": [
    {
     "cell_type": "code",
     "collapsed": false,
     "input": [
      "import graph_tool.all as gt\n",
      "import math"
     ],
     "language": "python",
     "metadata": {},
     "outputs": [],
     "prompt_number": 13
    },
    {
     "cell_type": "code",
     "collapsed": false,
     "input": [
      "g = gt.collection.data[\"polblogs\"] #  http://www2.scedu.unibo.it/roversi/SocioNet/AdamicGlanceBlogWWW.pdf"
     ],
     "language": "python",
     "metadata": {},
     "outputs": [],
     "prompt_number": 14
    },
    {
     "cell_type": "code",
     "collapsed": false,
     "input": [
      "#use 1->Republican, 2->Democrat\n",
      "red_blue_map = {1:(1,0,0,1),0:(0,0,1,1)}\n",
      "plot_color = g.new_vertex_property('vector<double>')\n",
      "g.vertex_properties['plot_color'] = plot_color\n",
      "for v in g.vertices():\n",
      "    plot_color[v] = red_blue_map[g.vertex_properties['value'][v]]"
     ],
     "language": "python",
     "metadata": {},
     "outputs": [],
     "prompt_number": 15
    },
    {
     "cell_type": "code",
     "collapsed": false,
     "input": [
      "#edge colors\n",
      "alpha=0.15\n",
      "edge_color = g.new_edge_property('vector<double>')\n",
      "g.edge_properties['edge_color']=edge_color\n",
      "for e in g.edges():\n",
      "    #orange on edges which cross over\n",
      "    if plot_color[e.source()] != plot_color[e.target()]:\n",
      "        edge_color[e] = (255.0/255.0, 102/255.0, 0/255.0, alpha)\n",
      "    #red on rep-rep edges\n",
      "    elif plot_color[e.source()] == (1,0,0,1):\n",
      "        edge_color[e] = (1,0,0, alpha)\n",
      "    #blue on dem-dem edges\n",
      "    else:\n",
      "        edge_color[e] = (0,0,1, alpha)\n",
      "\n"
     ],
     "language": "python",
     "metadata": {},
     "outputs": [],
     "prompt_number": 16
    },
    {
     "cell_type": "code",
     "collapsed": false,
     "input": [
      "#build tree\n",
      "t = gt.Graph()\n",
      "\n",
      "#add verticies with same idx as G\n",
      "for v in g.vertices():\n",
      "    tv = t.add_vertex()\n",
      "\n",
      "#add hierachy points\n",
      "reps = t.add_vertex()\n",
      "dems = t.add_vertex()\n",
      "root = t.add_vertex()\n",
      "t.add_edge(root,reps)\n",
      "t.add_edge(root,dems)\n",
      "\n",
      "for tv in t.vertices():\n",
      "    if t.vertex_index[tv] < g.num_vertices():\n",
      "        if g.vertex_properties['value'][tv] == 1:\n",
      "            t.add_edge(reps,tv)\n",
      "        else:\n",
      "            t.add_edge(dems,tv)\n",
      "\n",
      "tpos = pos = gt.radial_tree_layout(t, t.vertex(t.num_vertices() - 1), weighted=True)\n",
      "cts = gt.get_hierarchy_control_points(g, t, tpos)\n",
      "pos = g.own_property(tpos)\n",
      "\n",
      "gt.graph_draw(t,pos=pos)\n",
      "\n",
      "\n"
     ],
     "language": "python",
     "metadata": {},
     "outputs": [
      {
       "ename": "RuntimeError",
       "evalue": "Invalid hierarchical tree: No path from source to target.",
       "output_type": "pyerr",
       "traceback": [
        "\u001b[0;31m---------------------------------------------------------------------------\u001b[0m\n\u001b[0;31mRuntimeError\u001b[0m                              Traceback (most recent call last)",
        "\u001b[0;32m<ipython-input-12-d308674a16bc>\u001b[0m in \u001b[0;36m<module>\u001b[0;34m()\u001b[0m\n\u001b[1;32m     21\u001b[0m \u001b[0;34m\u001b[0m\u001b[0m\n\u001b[1;32m     22\u001b[0m \u001b[0mtpos\u001b[0m \u001b[0;34m=\u001b[0m \u001b[0mpos\u001b[0m \u001b[0;34m=\u001b[0m \u001b[0mgt\u001b[0m\u001b[0;34m.\u001b[0m\u001b[0mradial_tree_layout\u001b[0m\u001b[0;34m(\u001b[0m\u001b[0mt\u001b[0m\u001b[0;34m,\u001b[0m \u001b[0mt\u001b[0m\u001b[0;34m.\u001b[0m\u001b[0mvertex\u001b[0m\u001b[0;34m(\u001b[0m\u001b[0mt\u001b[0m\u001b[0;34m.\u001b[0m\u001b[0mnum_vertices\u001b[0m\u001b[0;34m(\u001b[0m\u001b[0;34m)\u001b[0m \u001b[0;34m-\u001b[0m \u001b[0;36m1\u001b[0m\u001b[0;34m)\u001b[0m\u001b[0;34m,\u001b[0m \u001b[0mweighted\u001b[0m\u001b[0;34m=\u001b[0m\u001b[0;32mTrue\u001b[0m\u001b[0;34m)\u001b[0m\u001b[0;34m\u001b[0m\u001b[0m\n\u001b[0;32m---> 23\u001b[0;31m \u001b[0mcts\u001b[0m \u001b[0;34m=\u001b[0m \u001b[0mgt\u001b[0m\u001b[0;34m.\u001b[0m\u001b[0mget_hierarchy_control_points\u001b[0m\u001b[0;34m(\u001b[0m\u001b[0mg\u001b[0m\u001b[0;34m,\u001b[0m \u001b[0mt\u001b[0m\u001b[0;34m,\u001b[0m \u001b[0mtpos\u001b[0m\u001b[0;34m)\u001b[0m\u001b[0;34m\u001b[0m\u001b[0m\n\u001b[0m\u001b[1;32m     24\u001b[0m \u001b[0mpos\u001b[0m \u001b[0;34m=\u001b[0m \u001b[0mg\u001b[0m\u001b[0;34m.\u001b[0m\u001b[0mown_property\u001b[0m\u001b[0;34m(\u001b[0m\u001b[0mtpos\u001b[0m\u001b[0;34m)\u001b[0m\u001b[0;34m\u001b[0m\u001b[0m\n\u001b[1;32m     25\u001b[0m \u001b[0;34m\u001b[0m\u001b[0m\n",
        "\u001b[0;32m/usr/lib/python3/dist-packages/graph_tool/draw/cairo_draw.py\u001b[0m in \u001b[0;36mget_hierarchy_control_points\u001b[0;34m(g, t, tpos, beta)\u001b[0m\n\u001b[1;32m   1196\u001b[0m     libgraph_tool_draw.get_cts(u._Graph__graph, tu._Graph__graph,\n\u001b[1;32m   1197\u001b[0m                                \u001b[0m_prop\u001b[0m\u001b[0;34m(\u001b[0m\u001b[0;34m\"v\"\u001b[0m\u001b[0;34m,\u001b[0m \u001b[0mtu\u001b[0m\u001b[0;34m,\u001b[0m \u001b[0mtpos\u001b[0m\u001b[0;34m)\u001b[0m\u001b[0;34m,\u001b[0m \u001b[0mbeta\u001b[0m\u001b[0;34m,\u001b[0m\u001b[0;34m\u001b[0m\u001b[0m\n\u001b[0;32m-> 1198\u001b[0;31m                                _prop(\"e\", u, cts))\n\u001b[0m\u001b[1;32m   1199\u001b[0m     \u001b[0;32mreturn\u001b[0m \u001b[0mcts\u001b[0m\u001b[0;34m\u001b[0m\u001b[0m\n\u001b[1;32m   1200\u001b[0m \u001b[0;34m\u001b[0m\u001b[0m\n",
        "\u001b[0;31mRuntimeError\u001b[0m: Invalid hierarchical tree: No path from source to target."
       ]
      }
     ],
     "prompt_number": 12
    },
    {
     "cell_type": "code",
     "collapsed": false,
     "input": [
      "#labels\n",
      "text_rot = g.new_vertex_property('double')\n",
      "g.vertex_properties['text_rot'] = text_rot\n",
      "for v in g.vertices():\n",
      "    if pos[v][0] >0:\n",
      "        text_rot[v] = math.atan(pos[v][1]/pos[v][0])\n",
      "    else:\n",
      "        text_rot[v] = math.pi + math.atan(pos[v][1]/pos[v][0])\n"
     ],
     "language": "python",
     "metadata": {},
     "outputs": [],
     "prompt_number": 95
    },
    {
     "cell_type": "code",
     "collapsed": false,
     "input": [
      "gt.graph_draw(g, pos=pos,\n",
      "              vertex_size=10,\n",
      "              vertex_color=g.vertex_properties['plot_color'],\n",
      "              vertex_fill_color=g.vertex_properties['plot_color'],\n",
      "              edge_control_points=cts,\n",
      "              vertex_text=g.vertex_properties['label'],\n",
      "            vertex_text_rotation=g.vertex_properties['text_rot'],\n",
      "            vertex_text_position=1,\n",
      "            vertex_font_size=9,\n",
      "            edge_color=g.edge_properties['edge_color'],\n",
      "            vertex_anchor=0,\n",
      "            bg_color=[0,0,0,1],\n",
      "            output_size=[4024,4024],\n",
      "            output='polblogs.png'\n",
      "            )"
     ],
     "language": "python",
     "metadata": {},
     "outputs": [
      {
       "metadata": {},
       "output_type": "pyout",
       "prompt_number": 103,
       "text": [
        "<PropertyMap object with key type 'Vertex' and value type 'vector<double>', for Graph 0x7faf52d77ef0, at 0x7faf8c17c7f0>"
       ]
      }
     ],
     "prompt_number": 103
    },
    {
     "cell_type": "code",
     "collapsed": false,
     "input": [
      "gt.graph_draw(g,\n",
      "                   vertex_color=g.vertex_properties['plot_color'],\n",
      "                   vertex_fill_color=g.vertex_properties['plot_color'],\n",
      "                   output_size=[1024,1024],\n",
      "                   output='/home/aahu/Dropbox/ryancompton.net/assets/graphviz/polblogs.png'\n",
      "                   )\n",
      "#vertex_text=g.vertex_properties['label'],"
     ],
     "language": "python",
     "metadata": {},
     "outputs": [
      {
       "metadata": {},
       "output_type": "pyout",
       "prompt_number": 6,
       "text": [
        "<PropertyMap object with key type 'Vertex' and value type 'vector<double>', for Graph 0x7faf52d77ef0, at 0x7faf52d92630>"
       ]
      }
     ],
     "prompt_number": 6
    },
    {
     "cell_type": "code",
     "collapsed": false,
     "input": [],
     "language": "python",
     "metadata": {},
     "outputs": []
    }
   ],
   "metadata": {}
  }
 ]
}