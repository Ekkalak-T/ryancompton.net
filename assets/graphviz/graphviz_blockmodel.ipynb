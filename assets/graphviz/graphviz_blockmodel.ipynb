{
 "metadata": {
  "name": ""
 },
 "nbformat": 3,
 "nbformat_minor": 0,
 "worksheets": [
  {
   "cells": [
    {
     "cell_type": "code",
     "collapsed": false,
     "input": [
      "import graph_tool.all as gt\n",
      "import math"
     ],
     "language": "python",
     "metadata": {},
     "outputs": [],
     "prompt_number": 21
    },
    {
     "cell_type": "code",
     "collapsed": false,
     "input": [
      "g = gt.collection.data[\"polblogs\"] #  http://www2.scedu.unibo.it/roversi/SocioNet/AdamicGlanceBlogWWW.pdf\n",
      "print(g.num_vertices(), g.num_edges())\n",
      "\n",
      "#reduce to only connected nodes\n",
      "g = gt.GraphView(g,vfilt=lambda v: (v.out_degree() > 0) and (v.in_degree() > 0) )\n",
      "g.purge_vertices()\n",
      "\n",
      "print(g.num_vertices(), g.num_edges())\n"
     ],
     "language": "python",
     "metadata": {},
     "outputs": [
      {
       "output_type": "stream",
       "stream": "stdout",
       "text": [
        "1490 19090\n",
        "831"
       ]
      },
      {
       "output_type": "stream",
       "stream": "stdout",
       "text": [
        " 16168\n"
       ]
      }
     ],
     "prompt_number": 22
    },
    {
     "cell_type": "code",
     "collapsed": false,
     "input": [
      "#use 1->Republican, 2->Democrat\n",
      "red_blue_map = {1:(1,0,0,1),0:(0,0,1,1)}\n",
      "plot_color = g.new_vertex_property('vector<double>')\n",
      "g.vertex_properties['plot_color'] = plot_color\n",
      "for v in g.vertices():\n",
      "    plot_color[v] = red_blue_map[g.vertex_properties['value'][v]]"
     ],
     "language": "python",
     "metadata": {},
     "outputs": [],
     "prompt_number": 23
    },
    {
     "cell_type": "code",
     "collapsed": false,
     "input": [
      "#edge colors\n",
      "alpha=0.15\n",
      "edge_color = g.new_edge_property('vector<double>')\n",
      "g.edge_properties['edge_color']=edge_color\n",
      "for e in g.edges():\n",
      "    if plot_color[e.source()] != plot_color[e.target()]:\n",
      "        if plot_color[e.source()] == (0,0,1,1):\n",
      "            #orange on dem -> rep\n",
      "            edge_color[e] = (255.0/255.0, 102/255.0, 0/255.0, alpha)\n",
      "        else:\n",
      "            edge_color[e] = (102.0/255.0, 51/255.0, 153/255.0, alpha)            \n",
      "    #red on rep-rep edges\n",
      "    elif plot_color[e.source()] == (1,0,0,1):\n",
      "        edge_color[e] = (1,0,0, alpha)\n",
      "    #blue on dem-dem edges\n",
      "    else:\n",
      "        edge_color[e] = (0,0,1, alpha)\n",
      "\n",
      "#labels\n",
      "text_rot = g.new_vertex_property('double')\n",
      "g.vertex_properties['text_rot'] = text_rot\n",
      "for v in g.vertices():\n",
      "    if pos[v][0] >0:\n",
      "        text_rot[v] = math.atan(pos[v][1]/pos[v][0])\n",
      "    else:\n",
      "        text_rot[v] = math.pi + math.atan(pos[v][1]/pos[v][0])\n",
      "        \n",
      "        "
     ],
     "language": "python",
     "metadata": {},
     "outputs": [],
     "prompt_number": 27
    },
    {
     "cell_type": "code",
     "collapsed": false,
     "input": [
      "state = gt.minimize_nested_blockmodel_dl(g, deg_corr=True)\n",
      "bstack = state.get_bstack()\n",
      "t = gt.get_hierarchy_tree(bstack)[0]\n",
      "tpos = pos = gt.radial_tree_layout(t, t.vertex(t.num_vertices() - 1), weighted=True)\n",
      "cts = gt.get_hierarchy_control_points(g, t, tpos)\n",
      "pos = g.own_property(tpos)\n",
      "b = bstack[0].vp[\"b\"]"
     ],
     "language": "python",
     "metadata": {},
     "outputs": [],
     "prompt_number": 25
    },
    {
     "cell_type": "code",
     "collapsed": false,
     "input": [
      "gt.graph_draw(g, pos=pos, vertex_fill_color=g.vertex_properties['plot_color'], \n",
      "            vertex_color=g.vertex_properties['plot_color'],\n",
      "            edge_control_points=cts,\n",
      "            vertex_size=10,\n",
      "            vertex_text=g.vertex_properties['label'],\n",
      "            vertex_text_rotation=g.vertex_properties['text_rot'],\n",
      "            vertex_text_position=1,\n",
      "            vertex_font_size=9,\n",
      "            edge_color=g.edge_properties['edge_color'],\n",
      "            vertex_anchor=0,\n",
      "            bg_color=[0,0,0,1],\n",
      "            output_size=[4024,4024],\n",
      "            output='polblogs_blockmodel.png')\n"
     ],
     "language": "python",
     "metadata": {},
     "outputs": [
      {
       "metadata": {},
       "output_type": "pyout",
       "prompt_number": 28,
       "text": [
        "<PropertyMap object with key type 'Vertex' and value type 'vector<double>', for Graph 0x7f4d650b3898, at 0x7f4d650d4748>"
       ]
      }
     ],
     "prompt_number": 28
    },
    {
     "cell_type": "code",
     "collapsed": false,
     "input": [],
     "language": "python",
     "metadata": {},
     "outputs": []
    }
   ],
   "metadata": {}
  }
 ]
}