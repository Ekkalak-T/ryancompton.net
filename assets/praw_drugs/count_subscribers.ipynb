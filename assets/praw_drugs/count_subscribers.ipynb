{
 "metadata": {
  "name": ""
 },
 "nbformat": 3,
 "nbformat_minor": 0,
 "worksheets": [
  {
   "cells": [
    {
     "cell_type": "code",
     "collapsed": false,
     "input": [
      "import pandas as pd\n",
      "import praw"
     ],
     "language": "python",
     "metadata": {},
     "outputs": [],
     "prompt_number": 1
    },
    {
     "cell_type": "code",
     "collapsed": false,
     "input": [
      "df = pd.read_csv('drugs_subreddit_list.tsv')"
     ],
     "language": "python",
     "metadata": {},
     "outputs": [],
     "prompt_number": 8
    },
    {
     "cell_type": "code",
     "collapsed": false,
     "input": [
      "l = []\n",
      "for subreddit in df['subreddit']:\n",
      "    r = praw.Reddit(user_agent='get_drugs_subreddit; subreddit={0}'.format(subreddit))\n",
      "    r.login(username='lunada_account',password='oodqWk67WeLk')\n",
      "    sr = r.get_subreddit(subreddit)\n",
      "    d = {'subreddit':subreddit, 'num_subscribers': sr.subscribers}\n",
      "    print(d)\n",
      "    l.append(d)\n",
      "df2 = pd.DataFrame(l)"
     ],
     "language": "python",
     "metadata": {},
     "outputs": [
      {
       "output_type": "stream",
       "stream": "stderr",
       "text": [
        "/usr/lib/python3/dist-packages/IPython/core/oinspect.py:145: ResourceWarning: unclosed file <_io.BufferedReader name='/usr/local/lib/python3.4/dist-packages/pandas/core/frame.py'>\n",
        "  encoding = get_encoding(obj)\n",
        "/usr/local/lib/python3.4/dist-packages/praw/handlers.py:121: ResourceWarning: unclosed <socket.socket fd=43, family=AddressFamily.AF_INET, type=2049, proto=6, laddr=('192.168.19.38', 39178), raddr=('198.41.208.139', 80)>\n",
        "  del cls.cache[key]\n"
       ]
      },
      {
       "output_type": "stream",
       "stream": "stdout",
       "text": [
        "{'num_subscribers': 4112, 'subreddit': 'cocaine'}\n",
        "{'num_subscribers': 669480, 'subreddit': 'trees'}"
       ]
      },
      {
       "output_type": "stream",
       "stream": "stdout",
       "text": [
        "\n",
        "{'num_subscribers': 13425, 'subreddit': 'opiates'}"
       ]
      },
      {
       "output_type": "stream",
       "stream": "stdout",
       "text": [
        "\n",
        "{'num_subscribers': 2070, 'subreddit': 'Benzodiazepines'}"
       ]
      },
      {
       "output_type": "stream",
       "stream": "stdout",
       "text": [
        "\n",
        "{'num_subscribers': 303, 'subreddit': 'Methadone'}"
       ]
      },
      {
       "output_type": "stream",
       "stream": "stdout",
       "text": [
        "\n",
        "{'num_subscribers': 831, 'subreddit': 'Pharms'}"
       ]
      },
      {
       "output_type": "stream",
       "stream": "stderr",
       "text": [
        "/usr/local/lib/python3.4/dist-packages/praw/handlers.py:121: ResourceWarning: unclosed <socket.socket fd=42, family=AddressFamily.AF_INET, type=2049, proto=6, laddr=('192.168.19.38', 39177), raddr=('198.41.208.139', 80)>\n",
        "  del cls.cache[key]\n",
        "/usr/local/lib/python3.4/dist-packages/praw/handlers.py:121: ResourceWarning: unclosed <socket.socket fd=45, family=AddressFamily.AF_INET, type=2049, proto=6, laddr=('192.168.19.38', 41671), raddr=('198.41.208.143', 80)>\n",
        "  del cls.cache[key]\n",
        "/usr/local/lib/python3.4/dist-packages/praw/handlers.py:121: ResourceWarning: unclosed <ssl.SSLSocket fd=42, family=AddressFamily.AF_INET, type=2049, proto=6, laddr=('192.168.19.38', 33703), raddr=('198.41.208.141', 443)>\n",
        "  del cls.cache[key]\n"
       ]
      },
      {
       "output_type": "stream",
       "stream": "stderr",
       "text": [
        "/usr/local/lib/python3.4/dist-packages/praw/handlers.py:121: ResourceWarning: unclosed <socket.socket fd=43, family=AddressFamily.AF_INET, type=2049, proto=6, laddr=('192.168.19.38', 39182), raddr=('198.41.208.139', 80)>\n",
        "  del cls.cache[key]\n",
        "/usr/local/lib/python3.4/dist-packages/praw/handlers.py:121: ResourceWarning: unclosed <socket.socket fd=46, family=AddressFamily.AF_INET, type=2049, proto=6, laddr=('192.168.19.38', 41675), raddr=('198.41.208.143', 80)>\n",
        "  del cls.cache[key]\n"
       ]
      },
      {
       "output_type": "stream",
       "stream": "stdout",
       "text": [
        "\n",
        "{'num_subscribers': 185809, 'subreddit': 'drugs'}"
       ]
      },
      {
       "output_type": "stream",
       "stream": "stdout",
       "text": [
        "\n",
        "{'num_subscribers': 80604, 'subreddit': 'psychonaut'}"
       ]
      },
      {
       "output_type": "stream",
       "stream": "stderr",
       "text": [
        "/usr/local/lib/python3.4/dist-packages/praw/handlers.py:121: ResourceWarning: unclosed <socket.socket fd=45, family=AddressFamily.AF_INET, type=2049, proto=6, laddr=('192.168.19.38', 39183), raddr=('198.41.208.139', 80)>\n",
        "  del cls.cache[key]\n",
        "/usr/lib/python3/dist-packages/urllib3/poolmanager.py:69: ResourceWarning: unclosed <ssl.SSLSocket fd=38, family=AddressFamily.AF_INET, type=2049, proto=6, laddr=('192.168.19.38', 58920), raddr=('198.41.209.143', 443)>\n",
        "  dispose_func=lambda p: p.close())\n"
       ]
      },
      {
       "output_type": "stream",
       "stream": "stdout",
       "text": [
        "\n",
        "{'num_subscribers': 24055, 'subreddit': 'DrugNerds'}"
       ]
      },
      {
       "output_type": "stream",
       "stream": "stderr",
       "text": [
        "/usr/lib/python3/dist-packages/urllib3/poolmanager.py:69: ResourceWarning: unclosed <socket.socket fd=39, family=AddressFamily.AF_INET, type=2049, proto=6, laddr=('192.168.19.38', 39172), raddr=('198.41.208.139', 80)>\n",
        "  dispose_func=lambda p: p.close())\n",
        "/usr/lib/python3/dist-packages/urllib3/poolmanager.py:69: ResourceWarning: unclosed <socket.socket fd=40, family=AddressFamily.AF_INET, type=2049, proto=6, laddr=('192.168.19.38', 41666), raddr=('198.41.208.143', 80)>\n",
        "  dispose_func=lambda p: p.close())\n",
        "/usr/lib/python3/dist-packages/urllib3/poolmanager.py:69: ResourceWarning: unclosed <socket.socket fd=41, family=AddressFamily.AF_INET, type=2049, proto=6, laddr=('192.168.19.38', 39176), raddr=('198.41.208.139', 80)>\n",
        "  dispose_func=lambda p: p.close())\n",
        "/usr/lib/python3/dist-packages/urllib3/poolmanager.py:69: ResourceWarning: unclosed <socket.socket fd=44, family=AddressFamily.AF_INET, type=2049, proto=6, laddr=('192.168.19.38', 41670), raddr=('198.41.208.143', 80)>\n",
        "  dispose_func=lambda p: p.close())\n",
        "/usr/lib/python3/dist-packages/urllib3/poolmanager.py:69: ResourceWarning: unclosed <socket.socket fd=47, family=AddressFamily.AF_INET, type=2049, proto=6, laddr=('192.168.19.38', 41676), raddr=('198.41.208.143', 80)>\n",
        "  dispose_func=lambda p: p.close())\n",
        "/usr/lib/python3/dist-packages/urllib3/poolmanager.py:69: ResourceWarning: unclosed <socket.socket fd=48, family=AddressFamily.AF_INET, type=2049, proto=6, laddr=('192.168.19.38', 41677), raddr=('198.41.208.143', 80)>\n",
        "  dispose_func=lambda p: p.close())\n",
        "/usr/local/lib/python3.4/dist-packages/praw/handlers.py:121: ResourceWarning: unclosed <socket.socket fd=49, family=AddressFamily.AF_INET, type=2049, proto=6, laddr=('192.168.19.38', 41679), raddr=('198.41.208.143', 80)>\n",
        "  del cls.cache[key]\n"
       ]
      },
      {
       "output_type": "stream",
       "stream": "stdout",
       "text": [
        "\n",
        "{'num_subscribers': 14906, 'subreddit': 'shrooms'}"
       ]
      },
      {
       "output_type": "stream",
       "stream": "stdout",
       "text": [
        "\n",
        "{'num_subscribers': 9391, 'subreddit': 'shroomers'}"
       ]
      },
      {
       "output_type": "stream",
       "stream": "stdout",
       "text": [
        "\n",
        "{'num_subscribers': 37752, 'subreddit': 'microgrowery'}"
       ]
      },
      {
       "output_type": "stream",
       "stream": "stderr",
       "text": [
        "/usr/local/lib/python3.4/dist-packages/praw/handlers.py:121: ResourceWarning: unclosed <ssl.SSLSocket fd=42, family=AddressFamily.AF_INET, type=2049, proto=6, laddr=('192.168.19.38', 33712), raddr=('198.41.208.141', 443)>\n",
        "  del cls.cache[key]\n",
        "/usr/local/lib/python3.4/dist-packages/praw/handlers.py:121: ResourceWarning: unclosed <socket.socket fd=43, family=AddressFamily.AF_INET, type=2049, proto=6, laddr=('192.168.19.38', 39191), raddr=('198.41.208.139', 80)>\n",
        "  del cls.cache[key]\n"
       ]
      },
      {
       "output_type": "stream",
       "stream": "stdout",
       "text": [
        "\n",
        "{'num_subscribers': 3565, 'subreddit': 'druggardening'}"
       ]
      },
      {
       "output_type": "stream",
       "stream": "stdout",
       "text": [
        "\n",
        "{'num_subscribers': 5481, 'subreddit': 'DrugStashes'}"
       ]
      },
      {
       "output_type": "stream",
       "stream": "stdout",
       "text": [
        "\n",
        "{'num_subscribers': 3258, 'subreddit': 'drugsarebeautiful'}"
       ]
      },
      {
       "output_type": "stream",
       "stream": "stdout",
       "text": [
        "\n",
        "{'num_subscribers': 3496, 'subreddit': 'OpiatesRecovery'}"
       ]
      },
      {
       "output_type": "stream",
       "stream": "stdout",
       "text": [
        "\n",
        "{'num_subscribers': 2557, 'subreddit': 'drugscirclejerk'}"
       ]
      },
      {
       "output_type": "stream",
       "stream": "stdout",
       "text": [
        "\n",
        "{'num_subscribers': 25837, 'subreddit': 'lsd'}"
       ]
      },
      {
       "output_type": "stream",
       "stream": "stdout",
       "text": [
        "\n",
        "{'num_subscribers': 2338, 'subreddit': 'entheogens'}"
       ]
      },
      {
       "output_type": "stream",
       "stream": "stderr",
       "text": [
        "/usr/local/lib/python3.4/dist-packages/praw/handlers.py:121: ResourceWarning: unclosed <socket.socket fd=39, family=AddressFamily.AF_INET, type=2049, proto=6, laddr=('192.168.19.38', 53569), raddr=('198.41.208.141', 80)>\n",
        "  del cls.cache[key]\n",
        "/usr/local/lib/python3.4/dist-packages/praw/handlers.py:121: ResourceWarning: unclosed <socket.socket fd=40, family=AddressFamily.AF_INET, type=2049, proto=6, laddr=('192.168.19.38', 53570), raddr=('198.41.208.141', 80)>\n",
        "  del cls.cache[key]\n"
       ]
      },
      {
       "output_type": "stream",
       "stream": "stdout",
       "text": [
        "\n",
        "{'num_subscribers': 84, 'subreddit': 'Ecstasy'}"
       ]
      },
      {
       "output_type": "stream",
       "stream": "stdout",
       "text": [
        "\n",
        "{'num_subscribers': 1447, 'subreddit': 'dxm'}"
       ]
      },
      {
       "output_type": "stream",
       "stream": "stdout",
       "text": [
        "\n",
        "{'num_subscribers': 43467, 'subreddit': 'Nootropics'}"
       ]
      },
      {
       "output_type": "stream",
       "stream": "stdout",
       "text": [
        "\n",
        "{'num_subscribers': 135, 'subreddit': 'dissociatives'}"
       ]
      },
      {
       "output_type": "stream",
       "stream": "stdout",
       "text": [
        "\n",
        "{'num_subscribers': 343, 'subreddit': 'ketamine'}"
       ]
      },
      {
       "output_type": "stream",
       "stream": "stdout",
       "text": [
        "\n",
        "{'num_subscribers': 63, 'subreddit': 'PCP'}"
       ]
      },
      {
       "output_type": "stream",
       "stream": "stderr",
       "text": [
        "/usr/local/lib/python3.4/dist-packages/praw/handlers.py:121: ResourceWarning: unclosed <socket.socket fd=41, family=AddressFamily.AF_INET, type=2049, proto=6, laddr=('192.168.19.38', 53572), raddr=('198.41.208.141', 80)>\n",
        "  del cls.cache[key]\n",
        "/usr/local/lib/python3.4/dist-packages/praw/handlers.py:121: ResourceWarning: unclosed <socket.socket fd=46, family=AddressFamily.AF_INET, type=2049, proto=6, laddr=('192.168.19.38', 41713), raddr=('198.41.208.143', 80)>\n",
        "  del cls.cache[key]\n"
       ]
      },
      {
       "output_type": "stream",
       "stream": "stdout",
       "text": [
        "\n",
        "{'num_subscribers': 51, 'subreddit': 'nitrous'}"
       ]
      },
      {
       "output_type": "stream",
       "stream": "stdout",
       "text": [
        "\n",
        "{'num_subscribers': 11347, 'subreddit': 'tryptonaut'}"
       ]
      },
      {
       "output_type": "stream",
       "stream": "stdout",
       "text": [
        "\n",
        "{'num_subscribers': 778, 'subreddit': 'mescaline'}"
       ]
      },
      {
       "output_type": "stream",
       "stream": "stderr",
       "text": [
        "/usr/local/lib/python3.4/dist-packages/praw/handlers.py:121: ResourceWarning: unclosed <socket.socket fd=47, family=AddressFamily.AF_INET, type=2049, proto=6, laddr=('192.168.19.38', 39223), raddr=('198.41.208.139', 80)>\n",
        "  del cls.cache[key]\n",
        "/usr/local/lib/python3.4/dist-packages/praw/handlers.py:121: ResourceWarning: unclosed <socket.socket fd=39, family=AddressFamily.AF_INET, type=2049, proto=6, laddr=('192.168.19.38', 39226), raddr=('198.41.208.139', 80)>\n",
        "  del cls.cache[key]\n"
       ]
      },
      {
       "output_type": "stream",
       "stream": "stdout",
       "text": [
        "\n",
        "{'num_subscribers': 1748, 'subreddit': 'ambien'}"
       ]
      },
      {
       "output_type": "stream",
       "stream": "stdout",
       "text": [
        "\n",
        "{'num_subscribers': 2944, 'subreddit': 'Psychedelic'}"
       ]
      },
      {
       "output_type": "stream",
       "stream": "stdout",
       "text": [
        "\n",
        "{'num_subscribers': 10069, 'subreddit': 'MDMA'}"
       ]
      },
      {
       "output_type": "stream",
       "stream": "stdout",
       "text": [
        "\n",
        "{'num_subscribers': 175, 'subreddit': 'Borax'}"
       ]
      },
      {
       "output_type": "stream",
       "stream": "stderr",
       "text": [
        "/usr/local/lib/python3.4/dist-packages/praw/handlers.py:121: ResourceWarning: unclosed <socket.socket fd=50, family=AddressFamily.AF_INET, type=2049, proto=6, laddr=('192.168.19.38', 41719), raddr=('198.41.208.143', 80)>\n",
        "  del cls.cache[key]\n",
        "/usr/local/lib/python3.4/dist-packages/praw/handlers.py:121: ResourceWarning: unclosed <socket.socket fd=40, family=AddressFamily.AF_INET, type=2049, proto=6, laddr=('192.168.19.38', 39227), raddr=('198.41.208.139', 80)>\n",
        "  del cls.cache[key]\n",
        "/usr/local/lib/python3.4/dist-packages/praw/handlers.py:121: ResourceWarning: unclosed <socket.socket fd=41, family=AddressFamily.AF_INET, type=2049, proto=6, laddr=('192.168.19.38', 41722), raddr=('198.41.208.143', 80)>\n",
        "  del cls.cache[key]\n"
       ]
      },
      {
       "output_type": "stream",
       "stream": "stdout",
       "text": [
        "\n",
        "{'num_subscribers': 2154, 'subreddit': 'adderall'}"
       ]
      },
      {
       "output_type": "stream",
       "stream": "stdout",
       "text": [
        "\n",
        "{'num_subscribers': 18845, 'subreddit': 'cripplingalcoholism'}"
       ]
      },
      {
       "output_type": "stream",
       "stream": "stdout",
       "text": [
        "\n",
        "{'num_subscribers': 5230, 'subreddit': 'MMJ'}"
       ]
      },
      {
       "output_type": "stream",
       "stream": "stdout",
       "text": [
        "\n"
       ]
      }
     ],
     "prompt_number": 13
    },
    {
     "cell_type": "code",
     "collapsed": false,
     "input": [
      "df2 = df2.sort(columns='num_subscribers', ascending=False)"
     ],
     "language": "python",
     "metadata": {},
     "outputs": [],
     "prompt_number": 21
    },
    {
     "cell_type": "code",
     "collapsed": false,
     "input": [
      "df2.to_csv('drugs_subreddit_list_sorted.tsv', sep='\\t', index=False)"
     ],
     "language": "python",
     "metadata": {},
     "outputs": [],
     "prompt_number": 22
    },
    {
     "cell_type": "code",
     "collapsed": false,
     "input": [],
     "language": "python",
     "metadata": {},
     "outputs": []
    }
   ],
   "metadata": {}
  }
 ]
}